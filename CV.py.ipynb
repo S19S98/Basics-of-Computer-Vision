{
 "cells": [
  {
   "cell_type": "markdown",
   "metadata": {},
   "source": [
    "# COMPUTER VISION"
   ]
  },
  {
   "cell_type": "code",
   "execution_count": null,
   "metadata": {},
   "outputs": [],
   "source": [
    "#import computer vision model\n",
    "import cv2"
   ]
  },
  {
   "cell_type": "markdown",
   "metadata": {},
   "source": [
    "Original Image"
   ]
  },
  {
   "cell_type": "code",
   "execution_count": 8,
   "metadata": {},
   "outputs": [],
   "source": [
    "#Display the image\n",
    "img = cv2.imread(\"images/sudoku.jpg\")\n",
    "cv2.imshow(\"Sudoku Image: \", img)\n",
    "cv2.waitKey(0)\n",
    "cv2.destroyAllWindows()"
   ]
  },
  {
   "cell_type": "markdown",
   "metadata": {},
   "source": [
    "GrayScale Image"
   ]
  },
  {
   "cell_type": "code",
   "execution_count": 11,
   "metadata": {},
   "outputs": [
    {
     "data": {
      "text/plain": [
       "True"
      ]
     },
     "execution_count": 11,
     "metadata": {},
     "output_type": "execute_result"
    }
   ],
   "source": [
    "img = cv2.imread(\"images/sudoku.jpg\", 0)\n",
    "cv2.imshow(\"GrayScale Image: \", img)\n",
    "cv2.waitKey(0)\n",
    "cv2.destroyAllWindows()\n",
    "\n",
    "#Save the GrayScale Image\n",
    "cv2.imwrite(\"images/grayscale_sudoku.jpg\", img)"
   ]
  },
  {
   "cell_type": "markdown",
   "metadata": {},
   "source": [
    "Black and White -- with Constant Threshold"
   ]
  },
  {
   "cell_type": "code",
   "execution_count": 8,
   "metadata": {},
   "outputs": [
    {
     "name": "stdout",
     "output_type": "stream",
     "text": [
      "0 8\n"
     ]
    },
    {
     "data": {
      "text/plain": [
       "True"
      ]
     },
     "execution_count": 8,
     "metadata": {},
     "output_type": "execute_result"
    }
   ],
   "source": [
    "#First Convert to GrayScale\n",
    "img = cv2.imread(\"images/sudoku.jpg\", 0)\n",
    "\n",
    "#Parameters\n",
    "print(cv2.THRESH_BINARY, cv2.THRESH_OTSU)\n",
    "\n",
    "#Set a threshold\n",
    "thresh = 140\n",
    "\n",
    "#Convert to black and white\n",
    "(thresh, img_bw_bin) = cv2.threshold(img, thresh, 255, cv2.THRESH_BINARY)\n",
    "(thresh, img_bw_otsu) = cv2.threshold(img, thresh, 255, cv2.THRESH_OTSU)\n",
    "\n",
    "cv2.imshow(\"Black&White Image: \", img_bw_bin)\n",
    "cv2.imshow(\"Black&White Image: \", img_bw_otsu)\n",
    "cv2.waitKey(0)\n",
    "cv2.destroyAllWindows()\n",
    "\n",
    "#Save the Black and White Image\n",
    "cv2.imwrite(\"images/black_white_binary_sudoku.jpg\", img_bw_bin)\n",
    "cv2.imwrite(\"images/black_white_otsu_sudoku.jpg\", img_bw_otsu)"
   ]
  },
  {
   "cell_type": "markdown",
   "metadata": {},
   "source": [
    "Black and White -- with Adaptive Threshold"
   ]
  },
  {
   "cell_type": "code",
   "execution_count": 10,
   "metadata": {},
   "outputs": [
    {
     "name": "stdout",
     "output_type": "stream",
     "text": [
      "0 8\n"
     ]
    },
    {
     "data": {
      "text/plain": [
       "True"
      ]
     },
     "execution_count": 10,
     "metadata": {},
     "output_type": "execute_result"
    }
   ],
   "source": [
    "#First Convert to GrayScale\n",
    "img = cv2.imread(\"images/sudoku.jpg\", 0)\n",
    "\n",
    "#Parameters\n",
    "print(cv2.THRESH_BINARY, cv2.THRESH_OTSU)\n",
    "\n",
    "#Set a threshold\n",
    "thresh = 140\n",
    "\n",
    "#Convert to black and white\n",
    "(thresh, img_bw_otsu) = cv2.threshold(img, thresh, 255, cv2.THRESH_OTSU)\n",
    "\n",
    "th_adap = cv2.adaptiveThreshold(img, 255, cv2.ADAPTIVE_THRESH_MEAN_C, cv2.THRESH_BINARY, 7, 5)\n",
    "\n",
    "cv2.imshow(\"Black&White Image: \", th_adap)\n",
    "cv2.waitKey(0)\n",
    "cv2.destroyAllWindows()\n",
    "\n",
    "#Save the Black and White Image\n",
    "cv2.imwrite(\"images/black_white_adaptive_sudoku.jpg\", th_adap)"
   ]
  },
  {
   "cell_type": "code",
   "execution_count": null,
   "metadata": {},
   "outputs": [],
   "source": []
  }
 ],
 "metadata": {
  "kernelspec": {
   "display_name": "Python 3",
   "language": "python",
   "name": "python3"
  },
  "language_info": {
   "codemirror_mode": {
    "name": "ipython",
    "version": 3
   },
   "file_extension": ".py",
   "mimetype": "text/x-python",
   "name": "python",
   "nbconvert_exporter": "python",
   "pygments_lexer": "ipython3",
   "version": "3.8.3"
  }
 },
 "nbformat": 4,
 "nbformat_minor": 4
}
